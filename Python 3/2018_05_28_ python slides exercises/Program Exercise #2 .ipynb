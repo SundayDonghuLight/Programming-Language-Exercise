{
 "cells": [
  {
   "cell_type": "code",
   "execution_count": 1,
   "metadata": {},
   "outputs": [
    {
     "name": "stdout",
     "output_type": "stream",
     "text": [
      "Enter three different numbers: 1.1 5.4 2.7\n",
      "5.40 is the largest number.\n"
     ]
    }
   ],
   "source": [
    "n1, n2, n3 = input(\"Enter three different numbers: \").split()\n",
    "n1 = float(n1)\n",
    "n2 = float(n2)\n",
    "n3 = float(n3)\n",
    "if( n1>=n2 and n1>=n3 ):\n",
    "    print(\"%.2f is the largest number.\" %(n1))\n",
    "if( n2>=n1 and n2>=n3 ):\n",
    "    print(\"%.2f is the largest number.\" %(n2))\n",
    "if( n3>=n1 and n3>=n2 ):\n",
    "    print(\"%.2f is the largest number.\" %(n3))"
   ]
  },
  {
   "cell_type": "code",
   "execution_count": 2,
   "metadata": {},
   "outputs": [
    {
     "name": "stdout",
     "output_type": "stream",
     "text": [
      "Enter number of rows: 5\n",
      "* \n",
      "* * \n",
      "* * * \n",
      "* * * * \n",
      "* * * * * \n"
     ]
    }
   ],
   "source": [
    "rows = input(\"Enter number of rows: \")\n",
    "rows = int(rows)\n",
    "for i in range(1,rows+1):\n",
    "    for j in range(1,i+1):\n",
    "        print(\"*\", end=\" \")\n",
    "    print(\"\\n\", end=\"\")"
   ]
  },
  {
   "cell_type": "code",
   "execution_count": 3,
   "metadata": {},
   "outputs": [
    {
     "name": "stdout",
     "output_type": "stream",
     "text": [
      "Enter two numbers: 4 9\n",
      "13\n"
     ]
    }
   ],
   "source": [
    "def addNumbers(a, b):\n",
    "    result = a + b\n",
    "    return result\n",
    "n1, n2 = input(\"Enter two numbers: \").split()\n",
    "n1 = int(n1)\n",
    "n2 = int(n2)\n",
    "sum = addNumbers(n1, n2)\n",
    "print(sum)"
   ]
  },
  {
   "cell_type": "code",
   "execution_count": null,
   "metadata": {},
   "outputs": [],
   "source": []
  }
 ],
 "metadata": {
  "kernelspec": {
   "display_name": "Python 3",
   "language": "python",
   "name": "python3"
  },
  "language_info": {
   "codemirror_mode": {
    "name": "ipython",
    "version": 3
   },
   "file_extension": ".py",
   "mimetype": "text/x-python",
   "name": "python",
   "nbconvert_exporter": "python",
   "pygments_lexer": "ipython3",
   "version": "3.6.4"
  }
 },
 "nbformat": 4,
 "nbformat_minor": 2
}
